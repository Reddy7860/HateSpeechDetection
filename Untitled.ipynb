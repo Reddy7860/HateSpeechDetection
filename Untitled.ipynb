{
 "cells": [
  {
   "cell_type": "code",
   "execution_count": 1,
   "metadata": {},
   "outputs": [
    {
     "name": "stdout",
     "output_type": "stream",
     "text": [
      "['Welcome', 'to', 'the', 'world', 'of', 'Geeks', 'This', 'portal', 'has', 'been', 'created', 'to', 'provide', 'well', 'written', 'wellthought', 'and', 'well', 'explained', 'solutions', 'for', 'selected', 'questions', 'If', 'you', 'like', 'Geeks', 'for', 'Geeks', 'and', 'would', 'like', 'to', 'contribute', 'here', 'is', 'your', 'chance', 'You', 'can', 'write', 'article', 'and', 'mail', 'your', 'article', 'to', 'contribute', 'at', 'geeksforgeeks', 'org', 'See', 'your', 'article', 'appearing', 'on', 'the', 'Geeks', 'for', 'Geeks', 'main', 'page', 'and', 'help', 'thousands', 'of', 'other', 'Geeks.']\n",
      "[('Geeks', 5), ('to', 4), ('and', 4), ('for', 3), ('your', 3), ('article', 3), ('the', 2), ('of', 2), ('well', 2), ('like', 2)]\n"
     ]
    }
   ],
   "source": [
    "from collections import Counter\n",
    "\n",
    "data_set = \"Welcome to the world of Geeks \" \\\n",
    "\"This portal has been created to provide well written well\" \\\n",
    "\"thought and well explained solutions for selected questions \" \\\n",
    "\"If you like Geeks for Geeks and would like to contribute \" \\\n",
    "\"here is your chance You can write article and mail your article \" \\\n",
    "\" to contribute at geeksforgeeks org See your article appearing on \" \\\n",
    "\"the Geeks for Geeks main page and help thousands of other Geeks. \" \\\n",
    "\n",
    "# split() returns list of all the words in the string\n",
    "split_it = data_set.split()\n",
    "\n",
    "print(split_it)\n",
    "\n",
    "# Pass the split_it list to instance of Counter class.\n",
    "Counters_found = Counter(split_it)\n",
    "#print(Counters)\n",
    "\n",
    "# most_common() produces k frequently encountered\n",
    "# input values and their respective counts.\n",
    "most_occur = Counters_found.most_common(10)\n",
    "print(most_occur)"
   ]
  },
  {
   "cell_type": "code",
   "execution_count": 7,
   "metadata": {},
   "outputs": [],
   "source": [
    "import pandas as pd\n",
    "\n",
    "from nltk.corpus import stopwords\n",
    "stop = set(stopwords.words('english'))\n",
    "\n",
    "# data_set = pd.read_csv('/home/sjonnal3/Hate_Speech_Detection/Applied_Machine_Learning/chase-master/data/ml/public/dt/labeled_data_all_2classes_only.csv')\n",
    "data_set = pd.read_csv('/home/sjonnal3/Hate_Speech_Detection/Applied_Machine_Learning/chase-master/data/ml/public/dt/racism_sexism_2classes_only.csv')\n",
    "\n",
    "data_set = data_set[data_set['tweet'].notna()]\n",
    "\n",
    "data_set['tweet'] = data_set['tweet'].str.lower()\n",
    "data_set['tweet_without_stopwords'] = data_set['tweet'].apply(lambda x: ' '.join([word for word in x.split() if word not in (stop)]))\n",
    "\n",
    "\n",
    "top_words = Counter(\" \".join(data_set.tweet_without_stopwords).split()).most_common(10)\n",
    "\n"
   ]
  },
  {
   "cell_type": "code",
   "execution_count": 8,
   "metadata": {},
   "outputs": [
    {
     "data": {
      "text/plain": [
       "[('#mkr', 4803),\n",
       " ('rt', 3664),\n",
       " (\"i'm\", 1264),\n",
       " ('like', 956),\n",
       " ('kat', 883),\n",
       " ('sexist', 733),\n",
       " ('women', 728),\n",
       " ('&amp;', 644),\n",
       " ('get', 637),\n",
       " ('people', 588)]"
      ]
     },
     "execution_count": 8,
     "metadata": {},
     "output_type": "execute_result"
    }
   ],
   "source": [
    "top_words"
   ]
  },
  {
   "cell_type": "code",
   "execution_count": 34,
   "metadata": {},
   "outputs": [
    {
     "name": "stdout",
     "output_type": "stream",
     "text": [
      "rt\n",
      "bitch\n",
      "bitches\n",
      "like\n",
      "hoes\n",
      "pussy\n",
      "i'm\n",
      "hoe\n",
      "ass\n",
      "get\n"
     ]
    }
   ],
   "source": [
    "words = []\n",
    "\n",
    "for i in range(0,len(top_words)):\n",
    "    words.append(top_words[i][0])"
   ]
  },
  {
   "cell_type": "code",
   "execution_count": 35,
   "metadata": {},
   "outputs": [
    {
     "data": {
      "text/plain": [
       "['rt', 'bitch', 'bitches', 'like', 'hoes', 'pussy', \"i'm\", 'hoe', 'ass', 'get']"
      ]
     },
     "execution_count": 35,
     "metadata": {},
     "output_type": "execute_result"
    }
   ],
   "source": [
    "words"
   ]
  },
  {
   "cell_type": "code",
   "execution_count": null,
   "metadata": {},
   "outputs": [],
   "source": []
  },
  {
   "cell_type": "code",
   "execution_count": 17,
   "metadata": {},
   "outputs": [
    {
     "data": {
      "text/plain": [
       "0        !!! rt @mayasolovely: as woman complain cleani...\n",
       "1        !!!!! rt @mleew17: boy dats cold...tyga dwn ba...\n",
       "2        !!!!!!! rt @urkindofbrand dawg!!!! rt @80sbaby...\n",
       "3        !!!!!!!!! rt @c_g_anderson: @viva_based look l...\n",
       "4        !!!!!!!!!!!!! rt @shenikaroberts: the shit hea...\n",
       "                               ...                        \n",
       "24778    you's muthaf***in lie &#8220;@lifeasking: @20_...\n",
       "24779     gone broke wrong heart baby, drove redneck crazy\n",
       "24780    young buck wanna eat!!.. dat nigguh like i ain...\n",
       "24781                    youu got wild bitches tellin lies\n",
       "24782    ~~ruffled | ntac eileen dahlia - beautiful col...\n",
       "Name: tweet_without_stopwords, Length: 24783, dtype: object"
      ]
     },
     "execution_count": 17,
     "metadata": {},
     "output_type": "execute_result"
    }
   ],
   "source": [
    "data_set['tweet_without_stopwords']"
   ]
  },
  {
   "cell_type": "code",
   "execution_count": 18,
   "metadata": {},
   "outputs": [
    {
     "data": {
      "text/plain": [
       "'young buck wanna eat!!.. dat nigguh like i aint fuckin dis'"
      ]
     },
     "execution_count": 18,
     "metadata": {},
     "output_type": "execute_result"
    }
   ],
   "source": [
    "data_set.loc[24780,'tweet_without_stopwords']"
   ]
  },
  {
   "cell_type": "code",
   "execution_count": 23,
   "metadata": {},
   "outputs": [
    {
     "name": "stdout",
     "output_type": "stream",
     "text": [
      "['young', 'buck', 'wan', 'na', 'eat', '!', '!', '..', 'dat', 'nigguh', 'like', 'i', 'aint', 'fuckin', 'dis']\n",
      "['young', 'buck', 'wan', 'na', 'eat', '!', '!', '..', 'dat', 'nigguh', 'like', 'aint', 'fuckin', 'dis']\n"
     ]
    }
   ],
   "source": [
    "from nltk.corpus import stopwords\n",
    "from nltk.tokenize import word_tokenize\n",
    "  \n",
    "example_sent = \"\"\"young buck wanna eat!!.. dat nigguh like i aint fuckin dis\"\"\"\n",
    "  \n",
    "stop_words = set(stopwords.words('english'))\n",
    "  \n",
    "word_tokens = word_tokenize(example_sent)\n",
    "word_tokens = word_tokens\n",
    "# converts the words in word_tokens to lower case and then checks whether \n",
    "#they are present in stop_words or not\n",
    "filtered_sentence = [w for w in word_tokens if not w.lower() in stop_words]\n",
    "#with no lower case conversion\n",
    "filtered_sentence = []\n",
    "  \n",
    "for w in word_tokens:\n",
    "    if w not in stop_words:\n",
    "        filtered_sentence.append(w)\n",
    "  \n",
    "print(word_tokens)\n",
    "print(filtered_sentence)"
   ]
  },
  {
   "cell_type": "code",
   "execution_count": 1,
   "metadata": {},
   "outputs": [
    {
     "name": "stdout",
     "output_type": "stream",
     "text": [
      "Downloading data from https://storage.googleapis.com/tensorflow/tf-keras-datasets/mnist.npz\n",
      "11490434/11490434 [==============================] - 0s 0us/step\n",
      "Fit model on training data\n",
      "Epoch 1/2\n",
      "782/782 [==============================] - 3s 2ms/step - loss: 0.3396 - sparse_categorical_accuracy: 0.9024 - val_loss: 0.1800 - val_sparse_categorical_accuracy: 0.9484\n",
      "Epoch 2/2\n",
      "782/782 [==============================] - 1s 2ms/step - loss: 0.1633 - sparse_categorical_accuracy: 0.9509 - val_loss: 0.1345 - val_sparse_categorical_accuracy: 0.9604\n",
      "Evaluate model on test data\n",
      "79/79 [==============================] - 0s 1ms/step - loss: 0.1367 - sparse_categorical_accuracy: 0.9583\n",
      "test loss, test acc: [0.13669757544994354, 0.958299994468689]\n",
      "Generate a prediction\n",
      "1/1 [==============================] - 0s 48ms/step\n",
      "prediction shape: (1, 10)\n"
     ]
    }
   ],
   "source": [
    "# Import the libraries required in this example:\n",
    "import tensorflow as tf\n",
    "from tensorflow import keras\n",
    "from tensorflow.keras import layers\n",
    "\n",
    "inputs = keras.Input(shape=(784,), name=\"digits\")\n",
    "x = layers.Dense(64, activation=\"relu\", name=\"dense_1\")(inputs)\n",
    "x = layers.Dense(64, activation=\"relu\", name=\"dense_2\")(x)\n",
    "outputs = layers.Dense(10, activation=\"softmax\", name=\"predictions\")(x)\n",
    "\n",
    "model = keras.Model(inputs=inputs, outputs=outputs)\n",
    "\n",
    "(x_train, y_train), (x_test, y_test) = keras.datasets.mnist.load_data()\n",
    "\n",
    "# Preprocess the data (NumPy arrays):\n",
    "x_train = x_train.reshape(60000, 784).astype(\"float32\") / 255\n",
    "x_test = x_test.reshape(10000, 784).astype(\"float32\") / 255\n",
    "\n",
    "y_train = y_train.astype(\"float32\")\n",
    "y_test = y_test.astype(\"float32\")\n",
    "\n",
    "# Allocate 10,000 samples for validation:\n",
    "x_val = x_train[-10000:]\n",
    "y_val = y_train[-10000:]\n",
    "x_train = x_train[:-10000]\n",
    "y_train = y_train[:-10000]\n",
    "\n",
    "model.compile(\n",
    "    optimizer=keras.optimizers.RMSprop(),  # Optimizer\n",
    "    # Minimize loss:\n",
    "    loss=keras.losses.SparseCategoricalCrossentropy(),\n",
    "    # Monitor metrics:\n",
    "    metrics=[keras.metrics.SparseCategoricalAccuracy()],\n",
    ")\n",
    "\n",
    "print(\"Fit model on training data\")\n",
    "history = model.fit(\n",
    "    x_train,\n",
    "    y_train,\n",
    "    batch_size=64,\n",
    "    epochs=2,\n",
    "    # Validation of loss and metrics\n",
    "    # at the end of each epoch:\n",
    "    validation_data=(x_val, y_val),\n",
    ")\n",
    "\n",
    "history.history\n",
    "\n",
    "print(\"Evaluate model on test data\")\n",
    "results = model.evaluate(x_test, y_test, batch_size=128)\n",
    "print(\"test loss, test acc:\", results)\n",
    "\n",
    "# Generate a prediction using model.predict() \n",
    "# and calculate it's shape:\n",
    "print(\"Generate a prediction\")\n",
    "prediction = model.predict(x_test[:1])\n",
    "print(\"prediction shape:\", prediction.shape)"
   ]
  },
  {
   "cell_type": "code",
   "execution_count": 2,
   "metadata": {},
   "outputs": [
    {
     "data": {
      "text/plain": [
       "array([7., 2., 1., ..., 4., 5., 6.], dtype=float32)"
      ]
     },
     "execution_count": 2,
     "metadata": {},
     "output_type": "execute_result"
    }
   ],
   "source": [
    "y_test"
   ]
  },
  {
   "cell_type": "code",
   "execution_count": 8,
   "metadata": {},
   "outputs": [
    {
     "name": "stdout",
     "output_type": "stream",
     "text": [
      "[1, 2, 1, 0, 1, 1]\n",
      "[[0 1 0]\n",
      " [0 0 1]\n",
      " [0 1 0]\n",
      " [1 0 0]\n",
      " [0 1 0]\n",
      " [0 1 0]]\n",
      "[1 2 1 0 1 1]\n"
     ]
    }
   ],
   "source": [
    "import numpy as np\n",
    "\n",
    "test_data = [1,2,1,0,1,1]\n",
    "print(test_data)\n",
    "\n",
    "from keras.utils import to_categorical\n",
    "\n",
    "test_data = to_categorical(test_data,num_classes = 3, dtype =\"int32\")\n",
    "print(test_data)\n",
    "\n",
    "test_data = np.argmax(test_data, axis=-1)\n",
    "\n",
    "print(test_data)"
   ]
  },
  {
   "cell_type": "code",
   "execution_count": 2,
   "metadata": {},
   "outputs": [
    {
     "data": {
      "text/plain": [
       "'2023-01-16 14:00:51'"
      ]
     },
     "execution_count": 2,
     "metadata": {},
     "output_type": "execute_result"
    }
   ],
   "source": [
    "import datetime\n",
    "\n",
    "datetime.datetime.now().strftime(\"%Y-%m-%d %H:%M:%S\")"
   ]
  },
  {
   "cell_type": "code",
   "execution_count": 6,
   "metadata": {},
   "outputs": [],
   "source": [
    "test_data = [1,2,1,0,1,1]\n",
    "\n",
    "counts = Counter(test_data)"
   ]
  },
  {
   "cell_type": "code",
   "execution_count": 8,
   "metadata": {},
   "outputs": [
    {
     "data": {
      "text/plain": [
       "3"
      ]
     },
     "execution_count": 8,
     "metadata": {},
     "output_type": "execute_result"
    }
   ],
   "source": [
    "len(counts)"
   ]
  },
  {
   "cell_type": "code",
   "execution_count": 17,
   "metadata": {},
   "outputs": [],
   "source": [
    "keys_list = [x for x in range(100)]\n",
    "\n",
    "# initialize dictionary\n",
    "sent_count_dict = {}\n",
    " \n",
    "# iterating through the elements of list\n",
    "for i in keys_list:\n",
    "    sent_count_dict[i] = 0"
   ]
  },
  {
   "cell_type": "code",
   "execution_count": 19,
   "metadata": {},
   "outputs": [],
   "source": [
    "sent_count_dict[1] = 10\n",
    "sent_count_dict[5] = 5\n",
    "sent_count_dict[10] = 7\n",
    "sent_count_dict[11] = 10\n"
   ]
  },
  {
   "cell_type": "code",
   "execution_count": 34,
   "metadata": {},
   "outputs": [],
   "source": [
    "sent_count_dict = {0: 1, 1: 217, 2: 732, 3: 1237, 4: 1523, 5: 1728, 6: 1734, 7: 1556, 8: 1558, 9: 1400, 10: 1269, 11: 1124, 12: 1055, 13: 986, 14: 775, 15: 617, 16: 465, 17: 301, 18: 151, 19: 97, 20: 29, 21: 10, 22: 14, 23: 5, 24: 2, 25: 1}"
   ]
  },
  {
   "cell_type": "code",
   "execution_count": 45,
   "metadata": {},
   "outputs": [],
   "source": [
    "import pandas as pd\n",
    "\n",
    "new = pd.DataFrame(sent_count_dict, index=[1]) \n",
    "\n",
    "new = new.transpose()\n",
    "\n",
    "new.reset_index(inplace=True)\n",
    "new =new.rename(columns = {'index':'Sentence_Length'})\n",
    "new.columns = ['Sentence_Length','Count']"
   ]
  },
  {
   "cell_type": "code",
   "execution_count": 46,
   "metadata": {},
   "outputs": [
    {
     "data": {
      "text/html": [
       "<div>\n",
       "<style scoped>\n",
       "    .dataframe tbody tr th:only-of-type {\n",
       "        vertical-align: middle;\n",
       "    }\n",
       "\n",
       "    .dataframe tbody tr th {\n",
       "        vertical-align: top;\n",
       "    }\n",
       "\n",
       "    .dataframe thead th {\n",
       "        text-align: right;\n",
       "    }\n",
       "</style>\n",
       "<table border=\"1\" class=\"dataframe\">\n",
       "  <thead>\n",
       "    <tr style=\"text-align: right;\">\n",
       "      <th></th>\n",
       "      <th>Sentence_Length</th>\n",
       "      <th>Count</th>\n",
       "    </tr>\n",
       "  </thead>\n",
       "  <tbody>\n",
       "    <tr>\n",
       "      <th>0</th>\n",
       "      <td>0</td>\n",
       "      <td>1</td>\n",
       "    </tr>\n",
       "    <tr>\n",
       "      <th>1</th>\n",
       "      <td>1</td>\n",
       "      <td>217</td>\n",
       "    </tr>\n",
       "    <tr>\n",
       "      <th>2</th>\n",
       "      <td>2</td>\n",
       "      <td>732</td>\n",
       "    </tr>\n",
       "    <tr>\n",
       "      <th>3</th>\n",
       "      <td>3</td>\n",
       "      <td>1237</td>\n",
       "    </tr>\n",
       "    <tr>\n",
       "      <th>4</th>\n",
       "      <td>4</td>\n",
       "      <td>1523</td>\n",
       "    </tr>\n",
       "    <tr>\n",
       "      <th>5</th>\n",
       "      <td>5</td>\n",
       "      <td>1728</td>\n",
       "    </tr>\n",
       "    <tr>\n",
       "      <th>6</th>\n",
       "      <td>6</td>\n",
       "      <td>1734</td>\n",
       "    </tr>\n",
       "    <tr>\n",
       "      <th>7</th>\n",
       "      <td>7</td>\n",
       "      <td>1556</td>\n",
       "    </tr>\n",
       "    <tr>\n",
       "      <th>8</th>\n",
       "      <td>8</td>\n",
       "      <td>1558</td>\n",
       "    </tr>\n",
       "    <tr>\n",
       "      <th>9</th>\n",
       "      <td>9</td>\n",
       "      <td>1400</td>\n",
       "    </tr>\n",
       "    <tr>\n",
       "      <th>10</th>\n",
       "      <td>10</td>\n",
       "      <td>1269</td>\n",
       "    </tr>\n",
       "    <tr>\n",
       "      <th>11</th>\n",
       "      <td>11</td>\n",
       "      <td>1124</td>\n",
       "    </tr>\n",
       "    <tr>\n",
       "      <th>12</th>\n",
       "      <td>12</td>\n",
       "      <td>1055</td>\n",
       "    </tr>\n",
       "    <tr>\n",
       "      <th>13</th>\n",
       "      <td>13</td>\n",
       "      <td>986</td>\n",
       "    </tr>\n",
       "    <tr>\n",
       "      <th>14</th>\n",
       "      <td>14</td>\n",
       "      <td>775</td>\n",
       "    </tr>\n",
       "    <tr>\n",
       "      <th>15</th>\n",
       "      <td>15</td>\n",
       "      <td>617</td>\n",
       "    </tr>\n",
       "    <tr>\n",
       "      <th>16</th>\n",
       "      <td>16</td>\n",
       "      <td>465</td>\n",
       "    </tr>\n",
       "    <tr>\n",
       "      <th>17</th>\n",
       "      <td>17</td>\n",
       "      <td>301</td>\n",
       "    </tr>\n",
       "    <tr>\n",
       "      <th>18</th>\n",
       "      <td>18</td>\n",
       "      <td>151</td>\n",
       "    </tr>\n",
       "    <tr>\n",
       "      <th>19</th>\n",
       "      <td>19</td>\n",
       "      <td>97</td>\n",
       "    </tr>\n",
       "    <tr>\n",
       "      <th>20</th>\n",
       "      <td>20</td>\n",
       "      <td>29</td>\n",
       "    </tr>\n",
       "    <tr>\n",
       "      <th>21</th>\n",
       "      <td>21</td>\n",
       "      <td>10</td>\n",
       "    </tr>\n",
       "    <tr>\n",
       "      <th>22</th>\n",
       "      <td>22</td>\n",
       "      <td>14</td>\n",
       "    </tr>\n",
       "    <tr>\n",
       "      <th>23</th>\n",
       "      <td>23</td>\n",
       "      <td>5</td>\n",
       "    </tr>\n",
       "    <tr>\n",
       "      <th>24</th>\n",
       "      <td>24</td>\n",
       "      <td>2</td>\n",
       "    </tr>\n",
       "    <tr>\n",
       "      <th>25</th>\n",
       "      <td>25</td>\n",
       "      <td>1</td>\n",
       "    </tr>\n",
       "  </tbody>\n",
       "</table>\n",
       "</div>"
      ],
      "text/plain": [
       "    Sentence_Length  Count\n",
       "0                 0      1\n",
       "1                 1    217\n",
       "2                 2    732\n",
       "3                 3   1237\n",
       "4                 4   1523\n",
       "5                 5   1728\n",
       "6                 6   1734\n",
       "7                 7   1556\n",
       "8                 8   1558\n",
       "9                 9   1400\n",
       "10               10   1269\n",
       "11               11   1124\n",
       "12               12   1055\n",
       "13               13    986\n",
       "14               14    775\n",
       "15               15    617\n",
       "16               16    465\n",
       "17               17    301\n",
       "18               18    151\n",
       "19               19     97\n",
       "20               20     29\n",
       "21               21     10\n",
       "22               22     14\n",
       "23               23      5\n",
       "24               24      2\n",
       "25               25      1"
      ]
     },
     "execution_count": 46,
     "metadata": {},
     "output_type": "execute_result"
    }
   ],
   "source": [
    "new"
   ]
  },
  {
   "cell_type": "code",
   "execution_count": 49,
   "metadata": {},
   "outputs": [
    {
     "data": {
      "image/png": "[encoded data removed]",
      "text/plain": [
       "<Figure size 432x288 with 1 Axes>"
      ]
     },
     "metadata": {
      "needs_background": "light"
     },
     "output_type": "display_data"
    }
   ],
   "source": [
    "import matplotlib.pyplot as plt\n",
    "\n",
    "x = new['Sentence_Length']\n",
    "y = new['Count']\n",
    "\n",
    "plt.bar(x,y,align='center') # A bar chart\n",
    "plt.xlabel('Words Count')\n",
    "plt.ylabel('Frequency')\n",
    "\n",
    "plt.savefig('books_read.png')"
   ]
  },
  {
   "cell_type": "code",
   "execution_count": 51,
   "metadata": {},
   "outputs": [
    {
     "data": {
      "text/plain": [
       "'/home/sjonnal3/Hate_Speech_Detection/Applied_Machine_Learning/chase-master'"
      ]
     },
     "execution_count": 51,
     "metadata": {},
     "output_type": "execute_result"
    }
   ],
   "source": [
    "pwd()"
   ]
  },
  {
   "cell_type": "code",
   "execution_count": null,
   "metadata": {},
   "outputs": [],
   "source": []
  }
 ],
 "metadata": {
  "kernelspec": {
   "display_name": "Python 3",
   "language": "python",
   "name": "python3"
  },
  "language_info": {
   "codemirror_mode": {
    "name": "ipython",
    "version": 3
   },
   "file_extension": ".py",
   "mimetype": "text/x-python",
   "name": "python",
   "nbconvert_exporter": "python",
   "pygments_lexer": "ipython3",
   "version": "3.8.10"
  }
 },
 "nbformat": 4,
 "nbformat_minor": 4
}
